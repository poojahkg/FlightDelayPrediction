{
 "cells": [
  {
   "cell_type": "code",
   "execution_count": 62,
   "metadata": {},
   "outputs": [],
   "source": [
    "import pandas as pd\n",
    "import numpy as np\n",
    "from glob import glob"
   ]
  },
  {
   "cell_type": "code",
   "execution_count": 63,
   "metadata": {},
   "outputs": [],
   "source": [
    "files = sorted(glob('Data\\\\Flight\\\\201*\\\\On_Time_On_Time_Performance_201*\\\\On_Time_On_Time_Performance_201*_*.csv'))"
   ]
  },
  {
   "cell_type": "code",
   "execution_count": 68,
   "metadata": {},
   "outputs": [],
   "source": [
    "dictionary = {'ATL': 10397,'CLT': 11057,'DEN': 11292,'DFW': 11298,'EWR': 11618,'IAH': 12266,'JFK': 12478,'LAS': 12889,\n",
    "              'LAX': 12892,'MCO': 13204,'MIA': 13303,'ORD': 13930,'PHX': 14107,'SEA': 14747,'SFO': 14771}"
   ]
  },
  {
   "cell_type": "code",
   "execution_count": 69,
   "metadata": {},
   "outputs": [],
   "source": [
    "codes = list(dictionary.values())"
   ]
  },
  {
   "cell_type": "code",
   "execution_count": 70,
   "metadata": {},
   "outputs": [],
   "source": [
    "airports = ['ATL','CLT','DEN','DFW','EWR','IAH','JFK','LAS','LAX','MCO','MIA','ORD','PHX','SEA','SFO']"
   ]
  },
  {
   "cell_type": "code",
   "execution_count": 67,
   "metadata": {},
   "outputs": [
    {
     "name": "stderr",
     "output_type": "stream",
     "text": [
      "D:\\Softwares\\Anaconda\\lib\\site-packages\\ipykernel_launcher.py:2: DtypeWarning: Columns (48,77,84) have mixed types.Specify dtype option on import or set low_memory=False.\n",
      "  \n",
      "D:\\Softwares\\Anaconda\\lib\\site-packages\\ipykernel_launcher.py:2: DtypeWarning: Columns (48,69,76,77,84) have mixed types.Specify dtype option on import or set low_memory=False.\n",
      "  \n",
      "D:\\Softwares\\Anaconda\\lib\\site-packages\\ipykernel_launcher.py:2: DtypeWarning: Columns (77) have mixed types.Specify dtype option on import or set low_memory=False.\n",
      "  \n",
      "D:\\Softwares\\Anaconda\\lib\\site-packages\\ipykernel_launcher.py:2: DtypeWarning: Columns (77,84) have mixed types.Specify dtype option on import or set low_memory=False.\n",
      "  \n",
      "D:\\Softwares\\Anaconda\\lib\\site-packages\\ipykernel_launcher.py:2: DtypeWarning: Columns (48,77,84,85) have mixed types.Specify dtype option on import or set low_memory=False.\n",
      "  \n",
      "D:\\Softwares\\Anaconda\\lib\\site-packages\\ipykernel_launcher.py:2: DtypeWarning: Columns (48,77) have mixed types.Specify dtype option on import or set low_memory=False.\n",
      "  \n"
     ]
    }
   ],
   "source": [
    "flight_df = pd.concat((pd.read_csv(file).assign(filename = file)\n",
    "                       for file in files), ignore_index = True)"
   ]
  },
  {
   "cell_type": "code",
   "execution_count": 71,
   "metadata": {},
   "outputs": [
    {
     "data": {
      "text/plain": [
       "Index(['Year', 'Quarter', 'Month', 'DayofMonth', 'DayOfWeek', 'FlightDate',\n",
       "       'UniqueCarrier', 'AirlineID', 'Carrier', 'TailNum',\n",
       "       ...\n",
       "       'Div5Airport', 'Div5AirportID', 'Div5AirportSeqID', 'Div5WheelsOn',\n",
       "       'Div5TotalGTime', 'Div5LongestGTime', 'Div5WheelsOff', 'Div5TailNum',\n",
       "       'Unnamed: 109', 'filename'],\n",
       "      dtype='object', length=111)"
      ]
     },
     "execution_count": 71,
     "metadata": {},
     "output_type": "execute_result"
    }
   ],
   "source": [
    "flight_df.columns"
   ]
  },
  {
   "cell_type": "code",
   "execution_count": 72,
   "metadata": {},
   "outputs": [],
   "source": [
    "flight_df['Dest'] = flight_df['DestAirportID']"
   ]
  },
  {
   "cell_type": "code",
   "execution_count": 73,
   "metadata": {},
   "outputs": [],
   "source": [
    "columns = ['Dest','FlightDate','Quarter','Year','Month','DayofMonth' ,'DepTime','DepDel15','CRSDepTime','DepDelayMinutes','OriginAirportID','DestAirportID','ArrTime','CRSArrTime','ArrDel15','ArrDelayMinutes','Origin']\n",
    "unwanted_columns = []\n",
    "for i in flight_df.columns :     \n",
    "    if i not in columns:        \n",
    "        unwanted_columns.append(i)"
   ]
  },
  {
   "cell_type": "code",
   "execution_count": 74,
   "metadata": {},
   "outputs": [],
   "source": [
    "flight_df = flight_df.drop(unwanted_columns,axis = 1).drop_duplicates()"
   ]
  },
  {
   "cell_type": "code",
   "execution_count": 75,
   "metadata": {},
   "outputs": [
    {
     "data": {
      "text/plain": [
       "(11292242, 17)"
      ]
     },
     "execution_count": 75,
     "metadata": {},
     "output_type": "execute_result"
    }
   ],
   "source": [
    "flight_df.shape"
   ]
  },
  {
   "cell_type": "code",
   "execution_count": 76,
   "metadata": {},
   "outputs": [
    {
     "data": {
      "text/plain": [
       "(5055569, 17)"
      ]
     },
     "execution_count": 76,
     "metadata": {},
     "output_type": "execute_result"
    }
   ],
   "source": [
    "final_df = pd.DataFrame()\n",
    "final_df = flight_df.loc[flight_df['Origin'].isin(airports)]\n",
    "final_df = flight_df.loc[flight_df['Dest'].isin(codes)]\n",
    "final_df.shape"
   ]
  },
  {
   "cell_type": "code",
   "execution_count": 77,
   "metadata": {},
   "outputs": [],
   "source": [
    "final_df.to_csv(r'Data\\\\Flight_Data.csv',index = False)"
   ]
  }
 ],
 "metadata": {
  "kernelspec": {
   "display_name": "Python 3",
   "language": "python",
   "name": "python3"
  },
  "language_info": {
   "codemirror_mode": {
    "name": "ipython",
    "version": 3
   },
   "file_extension": ".py",
   "mimetype": "text/x-python",
   "name": "python",
   "nbconvert_exporter": "python",
   "pygments_lexer": "ipython3",
   "version": "3.7.6"
  }
 },
 "nbformat": 4,
 "nbformat_minor": 4
}
