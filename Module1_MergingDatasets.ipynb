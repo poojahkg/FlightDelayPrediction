{
 "cells": [
  {
   "cell_type": "code",
   "execution_count": 47,
   "metadata": {},
   "outputs": [],
   "source": [
    "import numpy as np\n",
    "import pandas as pd"
   ]
  },
  {
   "cell_type": "code",
   "execution_count": 48,
   "metadata": {},
   "outputs": [
    {
     "data": {
      "text/plain": [
       "'D:\\\\Work\\\\SF\\\\ML Project'"
      ]
     },
     "execution_count": 48,
     "metadata": {},
     "output_type": "execute_result"
    }
   ],
   "source": [
    "pwd"
   ]
  },
  {
   "cell_type": "code",
   "execution_count": 49,
   "metadata": {},
   "outputs": [],
   "source": [
    "flight_df = pd.read_csv('Data\\\\Flight_Data.csv')"
   ]
  },
  {
   "cell_type": "code",
   "execution_count": 53,
   "metadata": {},
   "outputs": [
    {
     "data": {
      "text/plain": [
       "Year               0\n",
       "Quarter            0\n",
       "Month              0\n",
       "DayofMonth         0\n",
       "FlightDate         0\n",
       "OriginAirportID    0\n",
       "Origin             0\n",
       "DestAirportID      0\n",
       "Dest               0\n",
       "CRSDepTime         0\n",
       "DepTime            0\n",
       "DepDelayMinutes    0\n",
       "DepDel15           0\n",
       "CRSArrTime         0\n",
       "ArrTime            0\n",
       "ArrDelayMinutes    0\n",
       "ArrDel15           0\n",
       "dtype: int64"
      ]
     },
     "execution_count": 53,
     "metadata": {},
     "output_type": "execute_result"
    }
   ],
   "source": [
    "flight_df.isna().sum()"
   ]
  },
  {
   "cell_type": "code",
   "execution_count": 51,
   "metadata": {},
   "outputs": [
    {
     "data": {
      "text/plain": [
       "(5055569, 17)"
      ]
     },
     "execution_count": 51,
     "metadata": {},
     "output_type": "execute_result"
    }
   ],
   "source": [
    "flight_df.shape"
   ]
  },
  {
   "cell_type": "code",
   "execution_count": 52,
   "metadata": {},
   "outputs": [],
   "source": [
    "flight_df = flight_df[flight_df['ArrDelayMinutes'].notna()]"
   ]
  },
  {
   "cell_type": "code",
   "execution_count": 54,
   "metadata": {},
   "outputs": [],
   "source": [
    "weather_df = pd.read_csv('Data\\\\Weather_Data.csv')"
   ]
  },
  {
   "cell_type": "code",
   "execution_count": 55,
   "metadata": {},
   "outputs": [
    {
     "data": {
      "text/plain": [
       "Unnamed: 0       0\n",
       "windspeedKmph    0\n",
       "visibility       0\n",
       "weatherCode      0\n",
       "precipMM         0\n",
       "WindGustKmph     0\n",
       "pressure         0\n",
       "cloudcover       0\n",
       "winddirDegree    0\n",
       "humidity         0\n",
       "DewPointF        0\n",
       "tempF            0\n",
       "time             0\n",
       "WindChillF       0\n",
       "date             0\n",
       "place            0\n",
       "dtype: int64"
      ]
     },
     "execution_count": 55,
     "metadata": {},
     "output_type": "execute_result"
    }
   ],
   "source": [
    "weather_df.isna().sum()"
   ]
  },
  {
   "cell_type": "code",
   "execution_count": 56,
   "metadata": {},
   "outputs": [
    {
     "data": {
      "text/plain": [
       "Index(['Year', 'Quarter', 'Month', 'DayofMonth', 'FlightDate',\n",
       "       'OriginAirportID', 'Origin', 'DestAirportID', 'Dest', 'CRSDepTime',\n",
       "       'DepTime', 'DepDelayMinutes', 'DepDel15', 'CRSArrTime', 'ArrTime',\n",
       "       'ArrDelayMinutes', 'ArrDel15'],\n",
       "      dtype='object')"
      ]
     },
     "execution_count": 56,
     "metadata": {},
     "output_type": "execute_result"
    }
   ],
   "source": [
    "flight_df.columns"
   ]
  },
  {
   "cell_type": "code",
   "execution_count": 57,
   "metadata": {},
   "outputs": [
    {
     "data": {
      "text/plain": [
       "Index(['Unnamed: 0', 'windspeedKmph', 'visibility', 'weatherCode', 'precipMM',\n",
       "       'WindGustKmph', 'pressure', 'cloudcover', 'winddirDegree', 'humidity',\n",
       "       'DewPointF', 'tempF', 'time', 'WindChillF', 'date', 'place'],\n",
       "      dtype='object')"
      ]
     },
     "execution_count": 57,
     "metadata": {},
     "output_type": "execute_result"
    }
   ],
   "source": [
    "weather_df.columns"
   ]
  },
  {
   "cell_type": "code",
   "execution_count": 58,
   "metadata": {},
   "outputs": [],
   "source": [
    "def time_convert(time) :    \n",
    "    time = int(time)\n",
    "    r1 = time %100\n",
    "    if(r1<30) :\n",
    "        time = time - r1\n",
    "    elif(r1>=30) :\n",
    "        time = time + (100 - r1)\n",
    "    if(time == 2400):\n",
    "        time = 0\n",
    "    return time"
   ]
  },
  {
   "cell_type": "code",
   "execution_count": 59,
   "metadata": {},
   "outputs": [],
   "source": [
    "time_change = []\n",
    "for i in flight_df['CRSDepTime'] :\n",
    "    newtime = time_convert(i)\n",
    "    time_change.append(newtime)\n",
    "flight_df['DepartureTime'] = time_change"
   ]
  },
  {
   "cell_type": "code",
   "execution_count": 60,
   "metadata": {},
   "outputs": [],
   "source": [
    "df = pd.merge(flight_df,weather_df,how = 'inner',left_on = ['Origin','DepartureTime','FlightDate'],right_on = ['place','time','date'])\n",
    "df = df.drop(['Origin','DepartureTime'],axis = 1)"
   ]
  },
  {
   "cell_type": "code",
   "execution_count": 61,
   "metadata": {},
   "outputs": [
    {
     "data": {
      "text/plain": [
       "(1851091, 32)"
      ]
     },
     "execution_count": 61,
     "metadata": {},
     "output_type": "execute_result"
    }
   ],
   "source": [
    "df.shape"
   ]
  },
  {
   "cell_type": "code",
   "execution_count": 62,
   "metadata": {},
   "outputs": [
    {
     "data": {
      "text/plain": [
       "Index(['Year', 'Quarter', 'Month', 'DayofMonth', 'FlightDate',\n",
       "       'OriginAirportID', 'DestAirportID', 'Dest', 'CRSDepTime', 'DepTime',\n",
       "       'DepDelayMinutes', 'DepDel15', 'CRSArrTime', 'ArrTime',\n",
       "       'ArrDelayMinutes', 'ArrDel15', 'Unnamed: 0', 'windspeedKmph',\n",
       "       'visibility', 'weatherCode', 'precipMM', 'WindGustKmph', 'pressure',\n",
       "       'cloudcover', 'winddirDegree', 'humidity', 'DewPointF', 'tempF', 'time',\n",
       "       'WindChillF', 'date', 'place'],\n",
       "      dtype='object')"
      ]
     },
     "execution_count": 62,
     "metadata": {},
     "output_type": "execute_result"
    }
   ],
   "source": [
    "df.columns"
   ]
  },
  {
   "cell_type": "code",
   "execution_count": 63,
   "metadata": {},
   "outputs": [
    {
     "data": {
      "text/plain": [
       "12892    209321\n",
       "14771    166932\n",
       "13930    153438\n",
       "10397    146723\n",
       "11292    144149\n",
       "12889    132154\n",
       "11298    125904\n",
       "14747    115707\n",
       "14107    114012\n",
       "11618    100170\n",
       "13204     99568\n",
       "12478     93436\n",
       "12266     89551\n",
       "11057     83486\n",
       "13303     76540\n",
       "Name: OriginAirportID, dtype: int64"
      ]
     },
     "execution_count": 63,
     "metadata": {},
     "output_type": "execute_result"
    }
   ],
   "source": [
    "df['OriginAirportID'].value_counts()"
   ]
  },
  {
   "cell_type": "code",
   "execution_count": 64,
   "metadata": {},
   "outputs": [
    {
     "data": {
      "text/html": [
       "<div>\n",
       "<style scoped>\n",
       "    .dataframe tbody tr th:only-of-type {\n",
       "        vertical-align: middle;\n",
       "    }\n",
       "\n",
       "    .dataframe tbody tr th {\n",
       "        vertical-align: top;\n",
       "    }\n",
       "\n",
       "    .dataframe thead th {\n",
       "        text-align: right;\n",
       "    }\n",
       "</style>\n",
       "<table border=\"1\" class=\"dataframe\">\n",
       "  <thead>\n",
       "    <tr style=\"text-align: right;\">\n",
       "      <th></th>\n",
       "      <th>Year</th>\n",
       "      <th>Quarter</th>\n",
       "      <th>Month</th>\n",
       "      <th>DayofMonth</th>\n",
       "      <th>FlightDate</th>\n",
       "      <th>OriginAirportID</th>\n",
       "      <th>Origin</th>\n",
       "      <th>DestAirportID</th>\n",
       "      <th>Dest</th>\n",
       "      <th>CRSDepTime</th>\n",
       "      <th>DepTime</th>\n",
       "      <th>DepDelayMinutes</th>\n",
       "      <th>DepDel15</th>\n",
       "      <th>CRSArrTime</th>\n",
       "      <th>ArrTime</th>\n",
       "      <th>ArrDelayMinutes</th>\n",
       "      <th>ArrDel15</th>\n",
       "      <th>DepartureTime</th>\n",
       "    </tr>\n",
       "  </thead>\n",
       "  <tbody>\n",
       "    <tr>\n",
       "      <th>0</th>\n",
       "      <td>2016</td>\n",
       "      <td>4</td>\n",
       "      <td>10</td>\n",
       "      <td>3</td>\n",
       "      <td>2016-10-03</td>\n",
       "      <td>10721</td>\n",
       "      <td>BOS</td>\n",
       "      <td>12478</td>\n",
       "      <td>12478</td>\n",
       "      <td>600</td>\n",
       "      <td>556.0</td>\n",
       "      <td>0.0</td>\n",
       "      <td>0.0</td>\n",
       "      <td>715</td>\n",
       "      <td>709.0</td>\n",
       "      <td>0.0</td>\n",
       "      <td>0.0</td>\n",
       "      <td>600</td>\n",
       "    </tr>\n",
       "    <tr>\n",
       "      <th>1</th>\n",
       "      <td>2016</td>\n",
       "      <td>4</td>\n",
       "      <td>10</td>\n",
       "      <td>4</td>\n",
       "      <td>2016-10-04</td>\n",
       "      <td>10721</td>\n",
       "      <td>BOS</td>\n",
       "      <td>12478</td>\n",
       "      <td>12478</td>\n",
       "      <td>600</td>\n",
       "      <td>554.0</td>\n",
       "      <td>0.0</td>\n",
       "      <td>0.0</td>\n",
       "      <td>715</td>\n",
       "      <td>712.0</td>\n",
       "      <td>0.0</td>\n",
       "      <td>0.0</td>\n",
       "      <td>600</td>\n",
       "    </tr>\n",
       "    <tr>\n",
       "      <th>2</th>\n",
       "      <td>2016</td>\n",
       "      <td>4</td>\n",
       "      <td>10</td>\n",
       "      <td>1</td>\n",
       "      <td>2016-10-01</td>\n",
       "      <td>12478</td>\n",
       "      <td>JFK</td>\n",
       "      <td>12892</td>\n",
       "      <td>12892</td>\n",
       "      <td>830</td>\n",
       "      <td>823.0</td>\n",
       "      <td>0.0</td>\n",
       "      <td>0.0</td>\n",
       "      <td>1141</td>\n",
       "      <td>1111.0</td>\n",
       "      <td>0.0</td>\n",
       "      <td>0.0</td>\n",
       "      <td>900</td>\n",
       "    </tr>\n",
       "    <tr>\n",
       "      <th>3</th>\n",
       "      <td>2016</td>\n",
       "      <td>4</td>\n",
       "      <td>10</td>\n",
       "      <td>2</td>\n",
       "      <td>2016-10-02</td>\n",
       "      <td>12478</td>\n",
       "      <td>JFK</td>\n",
       "      <td>12892</td>\n",
       "      <td>12892</td>\n",
       "      <td>830</td>\n",
       "      <td>847.0</td>\n",
       "      <td>17.0</td>\n",
       "      <td>1.0</td>\n",
       "      <td>1141</td>\n",
       "      <td>1159.0</td>\n",
       "      <td>18.0</td>\n",
       "      <td>1.0</td>\n",
       "      <td>900</td>\n",
       "    </tr>\n",
       "    <tr>\n",
       "      <th>4</th>\n",
       "      <td>2016</td>\n",
       "      <td>4</td>\n",
       "      <td>10</td>\n",
       "      <td>3</td>\n",
       "      <td>2016-10-03</td>\n",
       "      <td>12478</td>\n",
       "      <td>JFK</td>\n",
       "      <td>12892</td>\n",
       "      <td>12892</td>\n",
       "      <td>830</td>\n",
       "      <td>825.0</td>\n",
       "      <td>0.0</td>\n",
       "      <td>0.0</td>\n",
       "      <td>1141</td>\n",
       "      <td>1131.0</td>\n",
       "      <td>0.0</td>\n",
       "      <td>0.0</td>\n",
       "      <td>900</td>\n",
       "    </tr>\n",
       "  </tbody>\n",
       "</table>\n",
       "</div>"
      ],
      "text/plain": [
       "   Year  Quarter  Month  DayofMonth  FlightDate  OriginAirportID Origin  \\\n",
       "0  2016        4     10           3  2016-10-03            10721    BOS   \n",
       "1  2016        4     10           4  2016-10-04            10721    BOS   \n",
       "2  2016        4     10           1  2016-10-01            12478    JFK   \n",
       "3  2016        4     10           2  2016-10-02            12478    JFK   \n",
       "4  2016        4     10           3  2016-10-03            12478    JFK   \n",
       "\n",
       "   DestAirportID   Dest  CRSDepTime  DepTime  DepDelayMinutes  DepDel15  \\\n",
       "0          12478  12478         600    556.0              0.0       0.0   \n",
       "1          12478  12478         600    554.0              0.0       0.0   \n",
       "2          12892  12892         830    823.0              0.0       0.0   \n",
       "3          12892  12892         830    847.0             17.0       1.0   \n",
       "4          12892  12892         830    825.0              0.0       0.0   \n",
       "\n",
       "   CRSArrTime  ArrTime  ArrDelayMinutes  ArrDel15  DepartureTime  \n",
       "0         715    709.0              0.0       0.0            600  \n",
       "1         715    712.0              0.0       0.0            600  \n",
       "2        1141   1111.0              0.0       0.0            900  \n",
       "3        1141   1159.0             18.0       1.0            900  \n",
       "4        1141   1131.0              0.0       0.0            900  "
      ]
     },
     "execution_count": 64,
     "metadata": {},
     "output_type": "execute_result"
    }
   ],
   "source": [
    "flight_df.head()"
   ]
  },
  {
   "cell_type": "code",
   "execution_count": 65,
   "metadata": {},
   "outputs": [],
   "source": [
    "weather_df.drop(['Unnamed: 0'],axis = 1, inplace = True)"
   ]
  },
  {
   "cell_type": "code",
   "execution_count": 66,
   "metadata": {},
   "outputs": [
    {
     "data": {
      "text/html": [
       "<div>\n",
       "<style scoped>\n",
       "    .dataframe tbody tr th:only-of-type {\n",
       "        vertical-align: middle;\n",
       "    }\n",
       "\n",
       "    .dataframe tbody tr th {\n",
       "        vertical-align: top;\n",
       "    }\n",
       "\n",
       "    .dataframe thead th {\n",
       "        text-align: right;\n",
       "    }\n",
       "</style>\n",
       "<table border=\"1\" class=\"dataframe\">\n",
       "  <thead>\n",
       "    <tr style=\"text-align: right;\">\n",
       "      <th></th>\n",
       "      <th>windspeedKmph</th>\n",
       "      <th>visibility</th>\n",
       "      <th>weatherCode</th>\n",
       "      <th>precipMM</th>\n",
       "      <th>WindGustKmph</th>\n",
       "      <th>pressure</th>\n",
       "      <th>cloudcover</th>\n",
       "      <th>winddirDegree</th>\n",
       "      <th>humidity</th>\n",
       "      <th>DewPointF</th>\n",
       "      <th>tempF</th>\n",
       "      <th>time</th>\n",
       "      <th>WindChillF</th>\n",
       "      <th>date</th>\n",
       "      <th>place</th>\n",
       "    </tr>\n",
       "  </thead>\n",
       "  <tbody>\n",
       "    <tr>\n",
       "      <th>0</th>\n",
       "      <td>15</td>\n",
       "      <td>10</td>\n",
       "      <td>122</td>\n",
       "      <td>0.0</td>\n",
       "      <td>23</td>\n",
       "      <td>1026</td>\n",
       "      <td>86</td>\n",
       "      <td>319</td>\n",
       "      <td>76</td>\n",
       "      <td>33</td>\n",
       "      <td>40</td>\n",
       "      <td>0</td>\n",
       "      <td>34</td>\n",
       "      <td>2016-01-02</td>\n",
       "      <td>ATL</td>\n",
       "    </tr>\n",
       "    <tr>\n",
       "      <th>1</th>\n",
       "      <td>16</td>\n",
       "      <td>10</td>\n",
       "      <td>122</td>\n",
       "      <td>0.0</td>\n",
       "      <td>23</td>\n",
       "      <td>1026</td>\n",
       "      <td>81</td>\n",
       "      <td>320</td>\n",
       "      <td>78</td>\n",
       "      <td>33</td>\n",
       "      <td>39</td>\n",
       "      <td>100</td>\n",
       "      <td>33</td>\n",
       "      <td>2016-01-02</td>\n",
       "      <td>ATL</td>\n",
       "    </tr>\n",
       "    <tr>\n",
       "      <th>2</th>\n",
       "      <td>16</td>\n",
       "      <td>10</td>\n",
       "      <td>116</td>\n",
       "      <td>0.0</td>\n",
       "      <td>23</td>\n",
       "      <td>1026</td>\n",
       "      <td>76</td>\n",
       "      <td>321</td>\n",
       "      <td>80</td>\n",
       "      <td>33</td>\n",
       "      <td>38</td>\n",
       "      <td>200</td>\n",
       "      <td>32</td>\n",
       "      <td>2016-01-02</td>\n",
       "      <td>ATL</td>\n",
       "    </tr>\n",
       "    <tr>\n",
       "      <th>3</th>\n",
       "      <td>16</td>\n",
       "      <td>10</td>\n",
       "      <td>116</td>\n",
       "      <td>0.0</td>\n",
       "      <td>23</td>\n",
       "      <td>1026</td>\n",
       "      <td>71</td>\n",
       "      <td>322</td>\n",
       "      <td>83</td>\n",
       "      <td>33</td>\n",
       "      <td>38</td>\n",
       "      <td>300</td>\n",
       "      <td>31</td>\n",
       "      <td>2016-01-02</td>\n",
       "      <td>ATL</td>\n",
       "    </tr>\n",
       "    <tr>\n",
       "      <th>4</th>\n",
       "      <td>16</td>\n",
       "      <td>10</td>\n",
       "      <td>116</td>\n",
       "      <td>0.0</td>\n",
       "      <td>23</td>\n",
       "      <td>1026</td>\n",
       "      <td>79</td>\n",
       "      <td>319</td>\n",
       "      <td>83</td>\n",
       "      <td>32</td>\n",
       "      <td>37</td>\n",
       "      <td>400</td>\n",
       "      <td>30</td>\n",
       "      <td>2016-01-02</td>\n",
       "      <td>ATL</td>\n",
       "    </tr>\n",
       "  </tbody>\n",
       "</table>\n",
       "</div>"
      ],
      "text/plain": [
       "   windspeedKmph  visibility  weatherCode  precipMM  WindGustKmph  pressure  \\\n",
       "0             15          10          122       0.0            23      1026   \n",
       "1             16          10          122       0.0            23      1026   \n",
       "2             16          10          116       0.0            23      1026   \n",
       "3             16          10          116       0.0            23      1026   \n",
       "4             16          10          116       0.0            23      1026   \n",
       "\n",
       "   cloudcover  winddirDegree  humidity  DewPointF  tempF  time  WindChillF  \\\n",
       "0          86            319        76         33     40     0          34   \n",
       "1          81            320        78         33     39   100          33   \n",
       "2          76            321        80         33     38   200          32   \n",
       "3          71            322        83         33     38   300          31   \n",
       "4          79            319        83         32     37   400          30   \n",
       "\n",
       "         date place  \n",
       "0  2016-01-02   ATL  \n",
       "1  2016-01-02   ATL  \n",
       "2  2016-01-02   ATL  \n",
       "3  2016-01-02   ATL  \n",
       "4  2016-01-02   ATL  "
      ]
     },
     "execution_count": 66,
     "metadata": {},
     "output_type": "execute_result"
    }
   ],
   "source": [
    "weather_df.head()"
   ]
  },
  {
   "cell_type": "code",
   "execution_count": 67,
   "metadata": {},
   "outputs": [
    {
     "data": {
      "text/plain": [
       "array([ 900, 1300, 1200,  700, 2100, 1100,  800, 2300, 1500, 1900, 2200,\n",
       "       1800, 1700,    0, 1000, 1400, 1600, 2000,  100,  600,  500,  200,\n",
       "        300], dtype=int64)"
      ]
     },
     "execution_count": 67,
     "metadata": {},
     "output_type": "execute_result"
    }
   ],
   "source": [
    "df['time'].unique()"
   ]
  },
  {
   "cell_type": "code",
   "execution_count": 68,
   "metadata": {},
   "outputs": [],
   "source": [
    "df.to_csv('Data\\\\Data.csv',index = False)"
   ]
  }
 ],
 "metadata": {
  "kernelspec": {
   "display_name": "Python 3",
   "language": "python",
   "name": "python3"
  },
  "language_info": {
   "codemirror_mode": {
    "name": "ipython",
    "version": 3
   },
   "file_extension": ".py",
   "mimetype": "text/x-python",
   "name": "python",
   "nbconvert_exporter": "python",
   "pygments_lexer": "ipython3",
   "version": "3.7.6"
  }
 },
 "nbformat": 4,
 "nbformat_minor": 4
}
