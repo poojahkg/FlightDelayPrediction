{
 "cells": [
  {
   "cell_type": "code",
   "execution_count": 1,
   "metadata": {},
   "outputs": [],
   "source": [
    "import pandas as pd\n",
    "import numpy as np"
   ]
  },
  {
   "cell_type": "code",
   "execution_count": 2,
   "metadata": {},
   "outputs": [],
   "source": [
    "files = sorted(glob('Data\\\\Flight\\\\201*\\\\On_Time_On_Time_Performance_201*\\\\On_Time_On_Time_Performance_201*_*.csv'))"
   ]
  },
  {
   "cell_type": "code",
   "execution_count": 4,
   "metadata": {},
   "outputs": [],
   "source": [
    "columns = ['FlightDate','Quarter','Year','Month','DayofMonth' ,'DepTime','DepDel15','CRSDepTime','DepDelayMinutes','OriginAirportID','DestAirportID','ArrTime','CRSArrTime','ArrDel15','ArrDelayMinutes','Origin']\n",
    "unwanted_columns = []\n",
    "for i in flight_df.columns :     \n",
    "    if i not in columns:        \n",
    "        unwanted_columns.append(i)"
   ]
  },
  {
   "cell_type": "code",
   "execution_count": 3,
   "metadata": {},
   "outputs": [
    {
     "name": "stderr",
     "output_type": "stream",
     "text": [
      "D:\\Softwares\\Anaconda\\lib\\site-packages\\ipykernel_launcher.py:2: DtypeWarning: Columns (48,77,84) have mixed types.Specify dtype option on import or set low_memory=False.\n",
      "  \n",
      "D:\\Softwares\\Anaconda\\lib\\site-packages\\ipykernel_launcher.py:2: DtypeWarning: Columns (48,69,76,77,84) have mixed types.Specify dtype option on import or set low_memory=False.\n",
      "  \n",
      "D:\\Softwares\\Anaconda\\lib\\site-packages\\ipykernel_launcher.py:2: DtypeWarning: Columns (77) have mixed types.Specify dtype option on import or set low_memory=False.\n",
      "  \n",
      "D:\\Softwares\\Anaconda\\lib\\site-packages\\ipykernel_launcher.py:2: DtypeWarning: Columns (77,84) have mixed types.Specify dtype option on import or set low_memory=False.\n",
      "  \n",
      "D:\\Softwares\\Anaconda\\lib\\site-packages\\ipykernel_launcher.py:2: DtypeWarning: Columns (48,77,84,85) have mixed types.Specify dtype option on import or set low_memory=False.\n",
      "  \n",
      "D:\\Softwares\\Anaconda\\lib\\site-packages\\ipykernel_launcher.py:2: DtypeWarning: Columns (48,77) have mixed types.Specify dtype option on import or set low_memory=False.\n",
      "  \n"
     ]
    }
   ],
   "source": [
    "flight_df = pd.concat((pd.read_csv(file).assign(filename = file)\n",
    "                      for file in files), ignore_index = True)"
   ]
  },
  {
   "cell_type": "code",
   "execution_count": 5,
   "metadata": {},
   "outputs": [],
   "source": [
    "flight_df = flight_df.drop(unwanted_columns,axis = 1).drop_duplicates()"
   ]
  },
  {
   "cell_type": "code",
   "execution_count": 6,
   "metadata": {},
   "outputs": [],
   "source": [
    "flight_df.to_csv(r'Data\\\\Flight_Data.csv',index = False)"
   ]
  }
 ],
 "metadata": {
  "kernelspec": {
   "display_name": "Python 3",
   "language": "python",
   "name": "python3"
  },
  "language_info": {
   "codemirror_mode": {
    "name": "ipython",
    "version": 3
   },
   "file_extension": ".py",
   "mimetype": "text/x-python",
   "name": "python",
   "nbconvert_exporter": "python",
   "pygments_lexer": "ipython3",
   "version": "3.7.6"
  }
 },
 "nbformat": 4,
 "nbformat_minor": 4
}
