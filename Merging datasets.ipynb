{
 "cells": [
  {
   "cell_type": "code",
   "execution_count": 40,
   "metadata": {},
   "outputs": [],
   "source": [
    "import numpy as np\n",
    "import pandas as pd"
   ]
  },
  {
   "cell_type": "code",
   "execution_count": 4,
   "metadata": {},
   "outputs": [
    {
     "data": {
      "text/plain": [
       "'D:\\\\Work\\\\SF\\\\ML Project'"
      ]
     },
     "execution_count": 4,
     "metadata": {},
     "output_type": "execute_result"
    }
   ],
   "source": [
    "pwd"
   ]
  },
  {
   "cell_type": "code",
   "execution_count": 5,
   "metadata": {},
   "outputs": [],
   "source": [
    "flight_df = pd.read_csv('Data\\\\Flight_Data.csv')"
   ]
  },
  {
   "cell_type": "code",
   "execution_count": 10,
   "metadata": {},
   "outputs": [
    {
     "data": {
      "text/plain": [
       "Year               0\n",
       "Quarter            0\n",
       "Month              0\n",
       "DayofMonth         0\n",
       "FlightDate         0\n",
       "OriginAirportID    0\n",
       "Origin             0\n",
       "DestAirportID      0\n",
       "CRSDepTime         0\n",
       "DepTime            0\n",
       "DepDelayMinutes    0\n",
       "DepDel15           0\n",
       "CRSArrTime         0\n",
       "ArrTime            0\n",
       "ArrDelayMinutes    0\n",
       "ArrDel15           0\n",
       "dtype: int64"
      ]
     },
     "execution_count": 10,
     "metadata": {},
     "output_type": "execute_result"
    }
   ],
   "source": [
    "flight_df.isnull().sum()"
   ]
  },
  {
   "cell_type": "code",
   "execution_count": 11,
   "metadata": {},
   "outputs": [],
   "source": [
    "flight_df = flight_df[flight_df['ArrDelayMinutes'].notna()]"
   ]
  },
  {
   "cell_type": "code",
   "execution_count": 28,
   "metadata": {},
   "outputs": [],
   "source": [
    "weather_df = pd.read_csv('Data\\\\Weather_Data.csv')"
   ]
  },
  {
   "cell_type": "code",
   "execution_count": 34,
   "metadata": {},
   "outputs": [],
   "source": [
    "df = pd.merge(flight_df,weather_df,how = 'inner',left_on = ['Origin','DepartureTime','FlightDate'],right_on = ['place','time','date'])\n",
    "df = df.drop(['Origin','DepartureTime'],axis = 1)"
   ]
  },
  {
   "cell_type": "code",
   "execution_count": 48,
   "metadata": {},
   "outputs": [],
   "source": [
    "time_change = []\n",
    "for i in flight_df['CRSDepTime'] :\n",
    "    newtime = time_convert(i)\n",
    "    time_change.append(newtime)\n",
    "flight_df['DepartureTime'] = time_change"
   ]
  },
  {
   "cell_type": "code",
   "execution_count": 49,
   "metadata": {},
   "outputs": [],
   "source": [
    "def time_convert(time) :    \n",
    "    time = int(time)\n",
    "    r1 = time %100\n",
    "    if(r1<30) :\n",
    "        time = time - r1\n",
    "    elif(r1>=30) :\n",
    "        time = time + (100 - r1)\n",
    "    if(time == 2400):\n",
    "        time = 0\n",
    "    return time"
   ]
  },
  {
   "cell_type": "code",
   "execution_count": 19,
   "metadata": {},
   "outputs": [
    {
     "data": {
      "text/html": [
       "<div>\n",
       "<style scoped>\n",
       "    .dataframe tbody tr th:only-of-type {\n",
       "        vertical-align: middle;\n",
       "    }\n",
       "\n",
       "    .dataframe tbody tr th {\n",
       "        vertical-align: top;\n",
       "    }\n",
       "\n",
       "    .dataframe thead th {\n",
       "        text-align: right;\n",
       "    }\n",
       "</style>\n",
       "<table border=\"1\" class=\"dataframe\">\n",
       "  <thead>\n",
       "    <tr style=\"text-align: right;\">\n",
       "      <th></th>\n",
       "      <th>Year</th>\n",
       "      <th>Quarter</th>\n",
       "      <th>Month</th>\n",
       "      <th>DayofMonth</th>\n",
       "      <th>FlightDate</th>\n",
       "      <th>OriginAirportID</th>\n",
       "      <th>Origin</th>\n",
       "      <th>DestAirportID</th>\n",
       "      <th>CRSDepTime</th>\n",
       "      <th>DepTime</th>\n",
       "      <th>DepDelayMinutes</th>\n",
       "      <th>DepDel15</th>\n",
       "      <th>CRSArrTime</th>\n",
       "      <th>ArrTime</th>\n",
       "      <th>ArrDelayMinutes</th>\n",
       "      <th>ArrDel15</th>\n",
       "      <th>DepartureTime</th>\n",
       "    </tr>\n",
       "  </thead>\n",
       "  <tbody>\n",
       "    <tr>\n",
       "      <th>0</th>\n",
       "      <td>2016</td>\n",
       "      <td>4</td>\n",
       "      <td>10</td>\n",
       "      <td>3</td>\n",
       "      <td>2016-10-03</td>\n",
       "      <td>10721</td>\n",
       "      <td>BOS</td>\n",
       "      <td>12478</td>\n",
       "      <td>600</td>\n",
       "      <td>556.0</td>\n",
       "      <td>0.0</td>\n",
       "      <td>0.0</td>\n",
       "      <td>715</td>\n",
       "      <td>709.0</td>\n",
       "      <td>0.0</td>\n",
       "      <td>0.0</td>\n",
       "      <td>600</td>\n",
       "    </tr>\n",
       "    <tr>\n",
       "      <th>1</th>\n",
       "      <td>2016</td>\n",
       "      <td>4</td>\n",
       "      <td>10</td>\n",
       "      <td>4</td>\n",
       "      <td>2016-10-04</td>\n",
       "      <td>10721</td>\n",
       "      <td>BOS</td>\n",
       "      <td>12478</td>\n",
       "      <td>600</td>\n",
       "      <td>554.0</td>\n",
       "      <td>0.0</td>\n",
       "      <td>0.0</td>\n",
       "      <td>715</td>\n",
       "      <td>712.0</td>\n",
       "      <td>0.0</td>\n",
       "      <td>0.0</td>\n",
       "      <td>600</td>\n",
       "    </tr>\n",
       "    <tr>\n",
       "      <th>2</th>\n",
       "      <td>2016</td>\n",
       "      <td>4</td>\n",
       "      <td>10</td>\n",
       "      <td>1</td>\n",
       "      <td>2016-10-01</td>\n",
       "      <td>12478</td>\n",
       "      <td>JFK</td>\n",
       "      <td>12892</td>\n",
       "      <td>830</td>\n",
       "      <td>823.0</td>\n",
       "      <td>0.0</td>\n",
       "      <td>0.0</td>\n",
       "      <td>1141</td>\n",
       "      <td>1111.0</td>\n",
       "      <td>0.0</td>\n",
       "      <td>0.0</td>\n",
       "      <td>900</td>\n",
       "    </tr>\n",
       "    <tr>\n",
       "      <th>3</th>\n",
       "      <td>2016</td>\n",
       "      <td>4</td>\n",
       "      <td>10</td>\n",
       "      <td>2</td>\n",
       "      <td>2016-10-02</td>\n",
       "      <td>12478</td>\n",
       "      <td>JFK</td>\n",
       "      <td>12892</td>\n",
       "      <td>830</td>\n",
       "      <td>847.0</td>\n",
       "      <td>17.0</td>\n",
       "      <td>1.0</td>\n",
       "      <td>1141</td>\n",
       "      <td>1159.0</td>\n",
       "      <td>18.0</td>\n",
       "      <td>1.0</td>\n",
       "      <td>900</td>\n",
       "    </tr>\n",
       "    <tr>\n",
       "      <th>4</th>\n",
       "      <td>2016</td>\n",
       "      <td>4</td>\n",
       "      <td>10</td>\n",
       "      <td>3</td>\n",
       "      <td>2016-10-03</td>\n",
       "      <td>12478</td>\n",
       "      <td>JFK</td>\n",
       "      <td>12892</td>\n",
       "      <td>830</td>\n",
       "      <td>825.0</td>\n",
       "      <td>0.0</td>\n",
       "      <td>0.0</td>\n",
       "      <td>1141</td>\n",
       "      <td>1131.0</td>\n",
       "      <td>0.0</td>\n",
       "      <td>0.0</td>\n",
       "      <td>900</td>\n",
       "    </tr>\n",
       "  </tbody>\n",
       "</table>\n",
       "</div>"
      ],
      "text/plain": [
       "   Year  Quarter  Month  DayofMonth  FlightDate  OriginAirportID Origin  \\\n",
       "0  2016        4     10           3  2016-10-03            10721    BOS   \n",
       "1  2016        4     10           4  2016-10-04            10721    BOS   \n",
       "2  2016        4     10           1  2016-10-01            12478    JFK   \n",
       "3  2016        4     10           2  2016-10-02            12478    JFK   \n",
       "4  2016        4     10           3  2016-10-03            12478    JFK   \n",
       "\n",
       "   DestAirportID  CRSDepTime  DepTime  DepDelayMinutes  DepDel15  CRSArrTime  \\\n",
       "0          12478         600    556.0              0.0       0.0         715   \n",
       "1          12478         600    554.0              0.0       0.0         715   \n",
       "2          12892         830    823.0              0.0       0.0        1141   \n",
       "3          12892         830    847.0             17.0       1.0        1141   \n",
       "4          12892         830    825.0              0.0       0.0        1141   \n",
       "\n",
       "   ArrTime  ArrDelayMinutes  ArrDel15  DepartureTime  \n",
       "0    709.0              0.0       0.0            600  \n",
       "1    712.0              0.0       0.0            600  \n",
       "2   1111.0              0.0       0.0            900  \n",
       "3   1159.0             18.0       1.0            900  \n",
       "4   1131.0              0.0       0.0            900  "
      ]
     },
     "execution_count": 19,
     "metadata": {},
     "output_type": "execute_result"
    }
   ],
   "source": [
    "flight_df.head()"
   ]
  },
  {
   "cell_type": "code",
   "execution_count": 29,
   "metadata": {},
   "outputs": [],
   "source": [
    "weather_df.drop(['Unnamed: 0'],axis = 1, inplace = True)"
   ]
  },
  {
   "cell_type": "code",
   "execution_count": 35,
   "metadata": {},
   "outputs": [
    {
     "data": {
      "text/html": [
       "<div>\n",
       "<style scoped>\n",
       "    .dataframe tbody tr th:only-of-type {\n",
       "        vertical-align: middle;\n",
       "    }\n",
       "\n",
       "    .dataframe tbody tr th {\n",
       "        vertical-align: top;\n",
       "    }\n",
       "\n",
       "    .dataframe thead th {\n",
       "        text-align: right;\n",
       "    }\n",
       "</style>\n",
       "<table border=\"1\" class=\"dataframe\">\n",
       "  <thead>\n",
       "    <tr style=\"text-align: right;\">\n",
       "      <th></th>\n",
       "      <th>windspeedKmph</th>\n",
       "      <th>visibility</th>\n",
       "      <th>weatherCode</th>\n",
       "      <th>precipMM</th>\n",
       "      <th>WindGustKmph</th>\n",
       "      <th>pressure</th>\n",
       "      <th>cloudcover</th>\n",
       "      <th>winddirDegree</th>\n",
       "      <th>humidity</th>\n",
       "      <th>DewPointF</th>\n",
       "      <th>tempF</th>\n",
       "      <th>time</th>\n",
       "      <th>WindChillF</th>\n",
       "      <th>date</th>\n",
       "      <th>place</th>\n",
       "    </tr>\n",
       "  </thead>\n",
       "  <tbody>\n",
       "    <tr>\n",
       "      <th>0</th>\n",
       "      <td>2</td>\n",
       "      <td>10</td>\n",
       "      <td>113</td>\n",
       "      <td>0.0</td>\n",
       "      <td>4</td>\n",
       "      <td>1018</td>\n",
       "      <td>8</td>\n",
       "      <td>197</td>\n",
       "      <td>54</td>\n",
       "      <td>51</td>\n",
       "      <td>71</td>\n",
       "      <td>0</td>\n",
       "      <td>71</td>\n",
       "      <td>2016-10-02</td>\n",
       "      <td>ATL</td>\n",
       "    </tr>\n",
       "    <tr>\n",
       "      <th>1</th>\n",
       "      <td>2</td>\n",
       "      <td>10</td>\n",
       "      <td>113</td>\n",
       "      <td>0.0</td>\n",
       "      <td>4</td>\n",
       "      <td>1018</td>\n",
       "      <td>11</td>\n",
       "      <td>202</td>\n",
       "      <td>55</td>\n",
       "      <td>51</td>\n",
       "      <td>68</td>\n",
       "      <td>100</td>\n",
       "      <td>69</td>\n",
       "      <td>2016-10-02</td>\n",
       "      <td>ATL</td>\n",
       "    </tr>\n",
       "    <tr>\n",
       "      <th>2</th>\n",
       "      <td>2</td>\n",
       "      <td>10</td>\n",
       "      <td>113</td>\n",
       "      <td>0.0</td>\n",
       "      <td>4</td>\n",
       "      <td>1018</td>\n",
       "      <td>14</td>\n",
       "      <td>208</td>\n",
       "      <td>56</td>\n",
       "      <td>51</td>\n",
       "      <td>66</td>\n",
       "      <td>200</td>\n",
       "      <td>67</td>\n",
       "      <td>2016-10-02</td>\n",
       "      <td>ATL</td>\n",
       "    </tr>\n",
       "    <tr>\n",
       "      <th>3</th>\n",
       "      <td>2</td>\n",
       "      <td>10</td>\n",
       "      <td>113</td>\n",
       "      <td>0.0</td>\n",
       "      <td>4</td>\n",
       "      <td>1017</td>\n",
       "      <td>17</td>\n",
       "      <td>213</td>\n",
       "      <td>57</td>\n",
       "      <td>51</td>\n",
       "      <td>64</td>\n",
       "      <td>300</td>\n",
       "      <td>65</td>\n",
       "      <td>2016-10-02</td>\n",
       "      <td>ATL</td>\n",
       "    </tr>\n",
       "    <tr>\n",
       "      <th>4</th>\n",
       "      <td>2</td>\n",
       "      <td>10</td>\n",
       "      <td>113</td>\n",
       "      <td>0.0</td>\n",
       "      <td>4</td>\n",
       "      <td>1017</td>\n",
       "      <td>11</td>\n",
       "      <td>233</td>\n",
       "      <td>59</td>\n",
       "      <td>51</td>\n",
       "      <td>62</td>\n",
       "      <td>400</td>\n",
       "      <td>63</td>\n",
       "      <td>2016-10-02</td>\n",
       "      <td>ATL</td>\n",
       "    </tr>\n",
       "  </tbody>\n",
       "</table>\n",
       "</div>"
      ],
      "text/plain": [
       "   windspeedKmph  visibility  weatherCode  precipMM  WindGustKmph  pressure  \\\n",
       "0              2          10          113       0.0             4      1018   \n",
       "1              2          10          113       0.0             4      1018   \n",
       "2              2          10          113       0.0             4      1018   \n",
       "3              2          10          113       0.0             4      1017   \n",
       "4              2          10          113       0.0             4      1017   \n",
       "\n",
       "   cloudcover  winddirDegree  humidity  DewPointF  tempF  time  WindChillF  \\\n",
       "0           8            197        54         51     71     0          71   \n",
       "1          11            202        55         51     68   100          69   \n",
       "2          14            208        56         51     66   200          67   \n",
       "3          17            213        57         51     64   300          65   \n",
       "4          11            233        59         51     62   400          63   \n",
       "\n",
       "         date place  \n",
       "0  2016-10-02   ATL  \n",
       "1  2016-10-02   ATL  \n",
       "2  2016-10-02   ATL  \n",
       "3  2016-10-02   ATL  \n",
       "4  2016-10-02   ATL  "
      ]
     },
     "execution_count": 35,
     "metadata": {},
     "output_type": "execute_result"
    }
   ],
   "source": [
    "weather_df.head()"
   ]
  },
  {
   "cell_type": "code",
   "execution_count": 43,
   "metadata": {},
   "outputs": [
    {
     "data": {
      "text/plain": [
       "array([ 900, 1300, 1200, 1100,  700, 2100,  800, 2300, 1500, 1900, 2200,\n",
       "       1800, 1700,    0, 1000, 1400, 1600, 2000,  100,  600,  500,  200,\n",
       "        300], dtype=int64)"
      ]
     },
     "execution_count": 43,
     "metadata": {},
     "output_type": "execute_result"
    }
   ],
   "source": [
    "df['time'].unique()"
   ]
  },
  {
   "cell_type": "code",
   "execution_count": 39,
   "metadata": {},
   "outputs": [],
   "source": [
    "df.to_csv('Data\\\\Data.csv',index = False)"
   ]
  }
 ],
 "metadata": {
  "kernelspec": {
   "display_name": "Python 3",
   "language": "python",
   "name": "python3"
  },
  "language_info": {
   "codemirror_mode": {
    "name": "ipython",
    "version": 3
   },
   "file_extension": ".py",
   "mimetype": "text/x-python",
   "name": "python",
   "nbconvert_exporter": "python",
   "pygments_lexer": "ipython3",
   "version": "3.7.6"
  }
 },
 "nbformat": 4,
 "nbformat_minor": 4
}
