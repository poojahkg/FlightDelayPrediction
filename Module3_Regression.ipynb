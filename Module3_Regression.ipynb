{
 "cells": [
  {
   "cell_type": "code",
   "execution_count": 1,
   "metadata": {},
   "outputs": [],
   "source": [
    "import pandas as pd\n",
    "import os\n",
    "import numpy as np  \n",
    "import matplotlib.pyplot as plt  \n",
    "import seaborn as sns\n",
    "%matplotlib inline"
   ]
  },
  {
   "cell_type": "code",
   "execution_count": 2,
   "metadata": {},
   "outputs": [],
   "source": [
    "df = pd.read_csv('Data\\\\Data.csv')"
   ]
  },
  {
   "cell_type": "code",
   "execution_count": 3,
   "metadata": {},
   "outputs": [
    {
     "data": {
      "text/html": [
       "<div>\n",
       "<style scoped>\n",
       "    .dataframe tbody tr th:only-of-type {\n",
       "        vertical-align: middle;\n",
       "    }\n",
       "\n",
       "    .dataframe tbody tr th {\n",
       "        vertical-align: top;\n",
       "    }\n",
       "\n",
       "    .dataframe thead th {\n",
       "        text-align: right;\n",
       "    }\n",
       "</style>\n",
       "<table border=\"1\" class=\"dataframe\">\n",
       "  <thead>\n",
       "    <tr style=\"text-align: right;\">\n",
       "      <th></th>\n",
       "      <th>Year</th>\n",
       "      <th>Quarter</th>\n",
       "      <th>Month</th>\n",
       "      <th>DayofMonth</th>\n",
       "      <th>FlightDate</th>\n",
       "      <th>OriginAirportID</th>\n",
       "      <th>DestAirportID</th>\n",
       "      <th>Dest</th>\n",
       "      <th>CRSDepTime</th>\n",
       "      <th>DepTime</th>\n",
       "      <th>...</th>\n",
       "      <th>pressure</th>\n",
       "      <th>cloudcover</th>\n",
       "      <th>winddirDegree</th>\n",
       "      <th>humidity</th>\n",
       "      <th>DewPointF</th>\n",
       "      <th>tempF</th>\n",
       "      <th>time</th>\n",
       "      <th>WindChillF</th>\n",
       "      <th>date</th>\n",
       "      <th>place</th>\n",
       "    </tr>\n",
       "  </thead>\n",
       "  <tbody>\n",
       "    <tr>\n",
       "      <th>0</th>\n",
       "      <td>2016</td>\n",
       "      <td>4</td>\n",
       "      <td>10</td>\n",
       "      <td>1</td>\n",
       "      <td>2016-10-01</td>\n",
       "      <td>12478</td>\n",
       "      <td>12892</td>\n",
       "      <td>12892</td>\n",
       "      <td>830</td>\n",
       "      <td>823.0</td>\n",
       "      <td>...</td>\n",
       "      <td>1023</td>\n",
       "      <td>100</td>\n",
       "      <td>27</td>\n",
       "      <td>87</td>\n",
       "      <td>57</td>\n",
       "      <td>62</td>\n",
       "      <td>900</td>\n",
       "      <td>61</td>\n",
       "      <td>2016-10-01</td>\n",
       "      <td>JFK</td>\n",
       "    </tr>\n",
       "    <tr>\n",
       "      <th>1</th>\n",
       "      <td>2016</td>\n",
       "      <td>4</td>\n",
       "      <td>10</td>\n",
       "      <td>1</td>\n",
       "      <td>2016-10-01</td>\n",
       "      <td>12478</td>\n",
       "      <td>14771</td>\n",
       "      <td>14771</td>\n",
       "      <td>900</td>\n",
       "      <td>857.0</td>\n",
       "      <td>...</td>\n",
       "      <td>1023</td>\n",
       "      <td>100</td>\n",
       "      <td>27</td>\n",
       "      <td>87</td>\n",
       "      <td>57</td>\n",
       "      <td>62</td>\n",
       "      <td>900</td>\n",
       "      <td>61</td>\n",
       "      <td>2016-10-01</td>\n",
       "      <td>JFK</td>\n",
       "    </tr>\n",
       "    <tr>\n",
       "      <th>2</th>\n",
       "      <td>2016</td>\n",
       "      <td>4</td>\n",
       "      <td>10</td>\n",
       "      <td>1</td>\n",
       "      <td>2016-10-01</td>\n",
       "      <td>12478</td>\n",
       "      <td>13930</td>\n",
       "      <td>13930</td>\n",
       "      <td>924</td>\n",
       "      <td>926.0</td>\n",
       "      <td>...</td>\n",
       "      <td>1023</td>\n",
       "      <td>100</td>\n",
       "      <td>27</td>\n",
       "      <td>87</td>\n",
       "      <td>57</td>\n",
       "      <td>62</td>\n",
       "      <td>900</td>\n",
       "      <td>61</td>\n",
       "      <td>2016-10-01</td>\n",
       "      <td>JFK</td>\n",
       "    </tr>\n",
       "    <tr>\n",
       "      <th>3</th>\n",
       "      <td>2016</td>\n",
       "      <td>4</td>\n",
       "      <td>10</td>\n",
       "      <td>1</td>\n",
       "      <td>2016-10-01</td>\n",
       "      <td>12478</td>\n",
       "      <td>11292</td>\n",
       "      <td>11292</td>\n",
       "      <td>845</td>\n",
       "      <td>841.0</td>\n",
       "      <td>...</td>\n",
       "      <td>1023</td>\n",
       "      <td>100</td>\n",
       "      <td>27</td>\n",
       "      <td>87</td>\n",
       "      <td>57</td>\n",
       "      <td>62</td>\n",
       "      <td>900</td>\n",
       "      <td>61</td>\n",
       "      <td>2016-10-01</td>\n",
       "      <td>JFK</td>\n",
       "    </tr>\n",
       "    <tr>\n",
       "      <th>4</th>\n",
       "      <td>2016</td>\n",
       "      <td>4</td>\n",
       "      <td>10</td>\n",
       "      <td>1</td>\n",
       "      <td>2016-10-01</td>\n",
       "      <td>12478</td>\n",
       "      <td>10397</td>\n",
       "      <td>10397</td>\n",
       "      <td>840</td>\n",
       "      <td>833.0</td>\n",
       "      <td>...</td>\n",
       "      <td>1023</td>\n",
       "      <td>100</td>\n",
       "      <td>27</td>\n",
       "      <td>87</td>\n",
       "      <td>57</td>\n",
       "      <td>62</td>\n",
       "      <td>900</td>\n",
       "      <td>61</td>\n",
       "      <td>2016-10-01</td>\n",
       "      <td>JFK</td>\n",
       "    </tr>\n",
       "  </tbody>\n",
       "</table>\n",
       "<p>5 rows × 32 columns</p>\n",
       "</div>"
      ],
      "text/plain": [
       "   Year  Quarter  Month  DayofMonth  FlightDate  OriginAirportID  \\\n",
       "0  2016        4     10           1  2016-10-01            12478   \n",
       "1  2016        4     10           1  2016-10-01            12478   \n",
       "2  2016        4     10           1  2016-10-01            12478   \n",
       "3  2016        4     10           1  2016-10-01            12478   \n",
       "4  2016        4     10           1  2016-10-01            12478   \n",
       "\n",
       "   DestAirportID   Dest  CRSDepTime  DepTime  ...  pressure  cloudcover  \\\n",
       "0          12892  12892         830    823.0  ...      1023         100   \n",
       "1          14771  14771         900    857.0  ...      1023         100   \n",
       "2          13930  13930         924    926.0  ...      1023         100   \n",
       "3          11292  11292         845    841.0  ...      1023         100   \n",
       "4          10397  10397         840    833.0  ...      1023         100   \n",
       "\n",
       "   winddirDegree  humidity  DewPointF  tempF  time  WindChillF        date  \\\n",
       "0             27        87         57     62   900          61  2016-10-01   \n",
       "1             27        87         57     62   900          61  2016-10-01   \n",
       "2             27        87         57     62   900          61  2016-10-01   \n",
       "3             27        87         57     62   900          61  2016-10-01   \n",
       "4             27        87         57     62   900          61  2016-10-01   \n",
       "\n",
       "   place  \n",
       "0    JFK  \n",
       "1    JFK  \n",
       "2    JFK  \n",
       "3    JFK  \n",
       "4    JFK  \n",
       "\n",
       "[5 rows x 32 columns]"
      ]
     },
     "execution_count": 3,
     "metadata": {},
     "output_type": "execute_result"
    }
   ],
   "source": [
    "df.head(5)"
   ]
  },
  {
   "cell_type": "code",
   "execution_count": 4,
   "metadata": {},
   "outputs": [
    {
     "data": {
      "text/plain": [
       "Year               0\n",
       "Quarter            0\n",
       "Month              0\n",
       "DayofMonth         0\n",
       "FlightDate         0\n",
       "OriginAirportID    0\n",
       "DestAirportID      0\n",
       "Dest               0\n",
       "CRSDepTime         0\n",
       "DepTime            0\n",
       "DepDelayMinutes    0\n",
       "DepDel15           0\n",
       "CRSArrTime         0\n",
       "ArrTime            0\n",
       "ArrDelayMinutes    0\n",
       "ArrDel15           0\n",
       "Unnamed: 0         0\n",
       "windspeedKmph      0\n",
       "visibility         0\n",
       "weatherCode        0\n",
       "precipMM           0\n",
       "WindGustKmph       0\n",
       "pressure           0\n",
       "cloudcover         0\n",
       "winddirDegree      0\n",
       "humidity           0\n",
       "DewPointF          0\n",
       "tempF              0\n",
       "time               0\n",
       "WindChillF         0\n",
       "date               0\n",
       "place              0\n",
       "dtype: int64"
      ]
     },
     "execution_count": 4,
     "metadata": {},
     "output_type": "execute_result"
    }
   ],
   "source": [
    "df.isnull().sum()"
   ]
  },
  {
   "cell_type": "code",
   "execution_count": 17,
   "metadata": {},
   "outputs": [],
   "source": [
    "X = df.loc[df['ArrDel15'] == 1.0]      #selecting only delayed flights \n",
    "#y = df['ArrDel15']\n",
    "#X = df.drop(['ArrDel15','FlightDate','date','place','ArrDelayMinutes','ArrTime','Unnamed: 0'],axis = 1)"
   ]
  },
  {
   "cell_type": "code",
   "execution_count": 18,
   "metadata": {},
   "outputs": [],
   "source": [
    "y = X['ArrDelayMinutes']"
   ]
  },
  {
   "cell_type": "code",
   "execution_count": 21,
   "metadata": {},
   "outputs": [],
   "source": [
    "X = X.drop(['ArrDelayMinutes','Dest','Unnamed: 0','FlightDate','ArrTime','date','place','time'], axis = 1)"
   ]
  },
  {
   "cell_type": "code",
   "execution_count": 22,
   "metadata": {},
   "outputs": [
    {
     "data": {
      "text/plain": [
       "Index(['Year', 'Quarter', 'Month', 'DayofMonth', 'OriginAirportID',\n",
       "       'DestAirportID', 'CRSDepTime', 'DepTime', 'DepDelayMinutes', 'DepDel15',\n",
       "       'CRSArrTime', 'ArrDel15', 'windspeedKmph', 'visibility', 'weatherCode',\n",
       "       'precipMM', 'WindGustKmph', 'pressure', 'cloudcover', 'winddirDegree',\n",
       "       'humidity', 'DewPointF', 'tempF', 'WindChillF'],\n",
       "      dtype='object')"
      ]
     },
     "execution_count": 22,
     "metadata": {},
     "output_type": "execute_result"
    }
   ],
   "source": [
    "X.columns"
   ]
  },
  {
   "cell_type": "code",
   "execution_count": 23,
   "metadata": {},
   "outputs": [],
   "source": [
    "from sklearn.model_selection import train_test_split  \n",
    "X_train, X_test, y_train, y_test = train_test_split(X, y, test_size = 0.20) "
   ]
  },
  {
   "cell_type": "code",
   "execution_count": 24,
   "metadata": {},
   "outputs": [
    {
     "data": {
      "text/plain": [
       "(77600, 24)"
      ]
     },
     "execution_count": 24,
     "metadata": {},
     "output_type": "execute_result"
    }
   ],
   "source": [
    "X_test.shape"
   ]
  },
  {
   "cell_type": "code",
   "execution_count": 25,
   "metadata": {},
   "outputs": [],
   "source": [
    "from sklearn.metrics import mean_squared_error\n",
    "from sklearn.metrics import mean_absolute_error\n",
    "from sklearn.metrics import r2_score"
   ]
  },
  {
   "cell_type": "markdown",
   "metadata": {},
   "source": [
    "### Linear Regression"
   ]
  },
  {
   "cell_type": "code",
   "execution_count": 26,
   "metadata": {},
   "outputs": [
    {
     "data": {
      "text/plain": [
       "LinearRegression()"
      ]
     },
     "execution_count": 26,
     "metadata": {},
     "output_type": "execute_result"
    }
   ],
   "source": [
    "from sklearn.linear_model import LinearRegression\n",
    "lin = LinearRegression()\n",
    "lin.fit(X_train,y_train)"
   ]
  },
  {
   "cell_type": "code",
   "execution_count": 27,
   "metadata": {},
   "outputs": [],
   "source": [
    "y_pred_lin = lin.predict(X_test)"
   ]
  },
  {
   "cell_type": "code",
   "execution_count": 28,
   "metadata": {},
   "outputs": [
    {
     "name": "stdout",
     "output_type": "stream",
     "text": [
      "mean_squared_error    17.704143302305653\n",
      "mean_absolute_error   12.294908206742804\n",
      "R2score     0.9417569246765749\n"
     ]
    }
   ],
   "source": [
    "print(\"mean_squared_error   \" , np.sqrt(mean_squared_error(y_test, y_pred_lin)))\n",
    "print(\"mean_absolute_error  \" , mean_absolute_error(y_test, y_pred_lin))\n",
    "print(\"R2score    \" , r2_score(y_test,y_pred_lin))"
   ]
  },
  {
   "cell_type": "markdown",
   "metadata": {},
   "source": [
    "### SVR"
   ]
  },
  {
   "cell_type": "code",
   "execution_count": null,
   "metadata": {},
   "outputs": [],
   "source": [
    "from sklearn.svm import SVR\n",
    "svr = SVR(kernel = 'rbf')\n",
    "svr.fit(X_train,y_train)"
   ]
  },
  {
   "cell_type": "markdown",
   "metadata": {},
   "source": [
    "### Extra Trees Regressor"
   ]
  },
  {
   "cell_type": "code",
   "execution_count": 29,
   "metadata": {},
   "outputs": [
    {
     "data": {
      "text/plain": [
       "ExtraTreesRegressor()"
      ]
     },
     "execution_count": 29,
     "metadata": {},
     "output_type": "execute_result"
    }
   ],
   "source": [
    "from sklearn.ensemble import ExtraTreesRegressor\n",
    "etr = ExtraTreesRegressor()\n",
    "etr.fit(X_train,y_train)"
   ]
  },
  {
   "cell_type": "code",
   "execution_count": 30,
   "metadata": {},
   "outputs": [],
   "source": [
    "y_pred_etr = etr.predict(X_test)"
   ]
  },
  {
   "cell_type": "code",
   "execution_count": 31,
   "metadata": {},
   "outputs": [
    {
     "name": "stdout",
     "output_type": "stream",
     "text": [
      "mean_squared_error    16.949110090641653\n",
      "mean_absolute_error   11.94060579896907\n",
      "R2score     0.9466188080351612\n"
     ]
    }
   ],
   "source": [
    "print(\"mean_squared_error   \" , np.sqrt(mean_squared_error(y_test, y_pred_etr)))\n",
    "print(\"mean_absolute_error  \" , mean_absolute_error(y_test, y_pred_etr))\n",
    "print(\"R2score    \" , r2_score(y_test,y_pred_etr))"
   ]
  },
  {
   "cell_type": "markdown",
   "metadata": {},
   "source": [
    "### XGBoost Regressor"
   ]
  },
  {
   "cell_type": "code",
   "execution_count": 32,
   "metadata": {
    "scrolled": true
   },
   "outputs": [
    {
     "name": "stderr",
     "output_type": "stream",
     "text": [
      "D:\\Softwares\\Anaconda\\lib\\site-packages\\dask\\dataframe\\utils.py:14: FutureWarning: pandas.util.testing is deprecated. Use the functions in the public API at pandas.testing instead.\n",
      "  import pandas.util.testing as tm\n"
     ]
    },
    {
     "data": {
      "text/plain": [
       "XGBRegressor(base_score=0.5, booster='gbtree', colsample_bylevel=1,\n",
       "             colsample_bynode=1, colsample_bytree=1, gamma=0, gpu_id=-1,\n",
       "             importance_type='gain', interaction_constraints='',\n",
       "             learning_rate=0.300000012, max_delta_step=0, max_depth=6,\n",
       "             min_child_weight=1, missing=nan, monotone_constraints='()',\n",
       "             n_estimators=100, n_jobs=0, num_parallel_tree=1, random_state=0,\n",
       "             reg_alpha=0, reg_lambda=1, scale_pos_weight=1, subsample=1,\n",
       "             tree_method='exact', validate_parameters=1, verbosity=None)"
      ]
     },
     "execution_count": 32,
     "metadata": {},
     "output_type": "execute_result"
    }
   ],
   "source": [
    "import xgboost as xg\n",
    "xgb = xg.XGBRegressor()\n",
    "xgb.fit(X_train,y_train)"
   ]
  },
  {
   "cell_type": "code",
   "execution_count": 33,
   "metadata": {},
   "outputs": [],
   "source": [
    "y_pred_xgb = xgb.predict(X_test)"
   ]
  },
  {
   "cell_type": "code",
   "execution_count": 34,
   "metadata": {},
   "outputs": [
    {
     "name": "stdout",
     "output_type": "stream",
     "text": [
      "mean_squared_error    16.23648266911334\n",
      "mean_absolute_error   11.270680111118198\n",
      "R2score     0.9510132787537668\n"
     ]
    }
   ],
   "source": [
    "print(\"mean_squared_error   \" , np.sqrt(mean_squared_error(y_test, y_pred_xgb)))\n",
    "print(\"mean_absolute_error  \" , mean_absolute_error(y_test, y_pred_xgb))\n",
    "print(\"R2score    \" , r2_score(y_test,y_pred_xgb))"
   ]
  }
 ],
 "metadata": {
  "kernelspec": {
   "display_name": "Python 3",
   "language": "python",
   "name": "python3"
  },
  "language_info": {
   "codemirror_mode": {
    "name": "ipython",
    "version": 3
   },
   "file_extension": ".py",
   "mimetype": "text/x-python",
   "name": "python",
   "nbconvert_exporter": "python",
   "pygments_lexer": "ipython3",
   "version": "3.7.6"
  }
 },
 "nbformat": 4,
 "nbformat_minor": 4
}
