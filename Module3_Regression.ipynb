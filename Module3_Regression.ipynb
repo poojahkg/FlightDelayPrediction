{
 "cells": [
  {
   "cell_type": "code",
   "execution_count": 1,
   "metadata": {},
   "outputs": [],
   "source": [
    "import pandas as pd\n",
    "import os\n",
    "import numpy as np  \n",
    "import matplotlib.pyplot as plt  \n",
    "import seaborn as sns\n",
    "%matplotlib inline"
   ]
  },
  {
   "cell_type": "code",
   "execution_count": 2,
   "metadata": {},
   "outputs": [],
   "source": [
    "df = pd.read_csv('Data\\\\Data.csv')"
   ]
  },
  {
   "cell_type": "code",
   "execution_count": 3,
   "metadata": {},
   "outputs": [
    {
     "data": {
      "text/html": [
       "<div>\n",
       "<style scoped>\n",
       "    .dataframe tbody tr th:only-of-type {\n",
       "        vertical-align: middle;\n",
       "    }\n",
       "\n",
       "    .dataframe tbody tr th {\n",
       "        vertical-align: top;\n",
       "    }\n",
       "\n",
       "    .dataframe thead th {\n",
       "        text-align: right;\n",
       "    }\n",
       "</style>\n",
       "<table border=\"1\" class=\"dataframe\">\n",
       "  <thead>\n",
       "    <tr style=\"text-align: right;\">\n",
       "      <th></th>\n",
       "      <th>Year</th>\n",
       "      <th>Quarter</th>\n",
       "      <th>Month</th>\n",
       "      <th>DayofMonth</th>\n",
       "      <th>FlightDate</th>\n",
       "      <th>OriginAirportID</th>\n",
       "      <th>DestAirportID</th>\n",
       "      <th>Dest</th>\n",
       "      <th>CRSDepTime</th>\n",
       "      <th>DepTime</th>\n",
       "      <th>...</th>\n",
       "      <th>pressure</th>\n",
       "      <th>cloudcover</th>\n",
       "      <th>winddirDegree</th>\n",
       "      <th>humidity</th>\n",
       "      <th>DewPointF</th>\n",
       "      <th>tempF</th>\n",
       "      <th>time</th>\n",
       "      <th>WindChillF</th>\n",
       "      <th>date</th>\n",
       "      <th>place</th>\n",
       "    </tr>\n",
       "  </thead>\n",
       "  <tbody>\n",
       "    <tr>\n",
       "      <th>0</th>\n",
       "      <td>2016</td>\n",
       "      <td>4</td>\n",
       "      <td>10</td>\n",
       "      <td>1</td>\n",
       "      <td>2016-10-01</td>\n",
       "      <td>12478</td>\n",
       "      <td>12892</td>\n",
       "      <td>12892</td>\n",
       "      <td>830</td>\n",
       "      <td>823.0</td>\n",
       "      <td>...</td>\n",
       "      <td>1023</td>\n",
       "      <td>100</td>\n",
       "      <td>27</td>\n",
       "      <td>87</td>\n",
       "      <td>57</td>\n",
       "      <td>62</td>\n",
       "      <td>900</td>\n",
       "      <td>61</td>\n",
       "      <td>2016-10-01</td>\n",
       "      <td>JFK</td>\n",
       "    </tr>\n",
       "    <tr>\n",
       "      <th>1</th>\n",
       "      <td>2016</td>\n",
       "      <td>4</td>\n",
       "      <td>10</td>\n",
       "      <td>1</td>\n",
       "      <td>2016-10-01</td>\n",
       "      <td>12478</td>\n",
       "      <td>14771</td>\n",
       "      <td>14771</td>\n",
       "      <td>900</td>\n",
       "      <td>857.0</td>\n",
       "      <td>...</td>\n",
       "      <td>1023</td>\n",
       "      <td>100</td>\n",
       "      <td>27</td>\n",
       "      <td>87</td>\n",
       "      <td>57</td>\n",
       "      <td>62</td>\n",
       "      <td>900</td>\n",
       "      <td>61</td>\n",
       "      <td>2016-10-01</td>\n",
       "      <td>JFK</td>\n",
       "    </tr>\n",
       "    <tr>\n",
       "      <th>2</th>\n",
       "      <td>2016</td>\n",
       "      <td>4</td>\n",
       "      <td>10</td>\n",
       "      <td>1</td>\n",
       "      <td>2016-10-01</td>\n",
       "      <td>12478</td>\n",
       "      <td>13930</td>\n",
       "      <td>13930</td>\n",
       "      <td>924</td>\n",
       "      <td>926.0</td>\n",
       "      <td>...</td>\n",
       "      <td>1023</td>\n",
       "      <td>100</td>\n",
       "      <td>27</td>\n",
       "      <td>87</td>\n",
       "      <td>57</td>\n",
       "      <td>62</td>\n",
       "      <td>900</td>\n",
       "      <td>61</td>\n",
       "      <td>2016-10-01</td>\n",
       "      <td>JFK</td>\n",
       "    </tr>\n",
       "    <tr>\n",
       "      <th>3</th>\n",
       "      <td>2016</td>\n",
       "      <td>4</td>\n",
       "      <td>10</td>\n",
       "      <td>1</td>\n",
       "      <td>2016-10-01</td>\n",
       "      <td>12478</td>\n",
       "      <td>11292</td>\n",
       "      <td>11292</td>\n",
       "      <td>845</td>\n",
       "      <td>841.0</td>\n",
       "      <td>...</td>\n",
       "      <td>1023</td>\n",
       "      <td>100</td>\n",
       "      <td>27</td>\n",
       "      <td>87</td>\n",
       "      <td>57</td>\n",
       "      <td>62</td>\n",
       "      <td>900</td>\n",
       "      <td>61</td>\n",
       "      <td>2016-10-01</td>\n",
       "      <td>JFK</td>\n",
       "    </tr>\n",
       "    <tr>\n",
       "      <th>4</th>\n",
       "      <td>2016</td>\n",
       "      <td>4</td>\n",
       "      <td>10</td>\n",
       "      <td>1</td>\n",
       "      <td>2016-10-01</td>\n",
       "      <td>12478</td>\n",
       "      <td>10397</td>\n",
       "      <td>10397</td>\n",
       "      <td>840</td>\n",
       "      <td>833.0</td>\n",
       "      <td>...</td>\n",
       "      <td>1023</td>\n",
       "      <td>100</td>\n",
       "      <td>27</td>\n",
       "      <td>87</td>\n",
       "      <td>57</td>\n",
       "      <td>62</td>\n",
       "      <td>900</td>\n",
       "      <td>61</td>\n",
       "      <td>2016-10-01</td>\n",
       "      <td>JFK</td>\n",
       "    </tr>\n",
       "  </tbody>\n",
       "</table>\n",
       "<p>5 rows × 32 columns</p>\n",
       "</div>"
      ],
      "text/plain": [
       "   Year  Quarter  Month  DayofMonth  FlightDate  OriginAirportID  \\\n",
       "0  2016        4     10           1  2016-10-01            12478   \n",
       "1  2016        4     10           1  2016-10-01            12478   \n",
       "2  2016        4     10           1  2016-10-01            12478   \n",
       "3  2016        4     10           1  2016-10-01            12478   \n",
       "4  2016        4     10           1  2016-10-01            12478   \n",
       "\n",
       "   DestAirportID   Dest  CRSDepTime  DepTime  ...  pressure  cloudcover  \\\n",
       "0          12892  12892         830    823.0  ...      1023         100   \n",
       "1          14771  14771         900    857.0  ...      1023         100   \n",
       "2          13930  13930         924    926.0  ...      1023         100   \n",
       "3          11292  11292         845    841.0  ...      1023         100   \n",
       "4          10397  10397         840    833.0  ...      1023         100   \n",
       "\n",
       "   winddirDegree  humidity  DewPointF  tempF  time  WindChillF        date  \\\n",
       "0             27        87         57     62   900          61  2016-10-01   \n",
       "1             27        87         57     62   900          61  2016-10-01   \n",
       "2             27        87         57     62   900          61  2016-10-01   \n",
       "3             27        87         57     62   900          61  2016-10-01   \n",
       "4             27        87         57     62   900          61  2016-10-01   \n",
       "\n",
       "   place  \n",
       "0    JFK  \n",
       "1    JFK  \n",
       "2    JFK  \n",
       "3    JFK  \n",
       "4    JFK  \n",
       "\n",
       "[5 rows x 32 columns]"
      ]
     },
     "execution_count": 3,
     "metadata": {},
     "output_type": "execute_result"
    }
   ],
   "source": [
    "df.head(5)"
   ]
  },
  {
   "cell_type": "code",
   "execution_count": 4,
   "metadata": {},
   "outputs": [
    {
     "data": {
      "text/plain": [
       "Year               0\n",
       "Quarter            0\n",
       "Month              0\n",
       "DayofMonth         0\n",
       "FlightDate         0\n",
       "OriginAirportID    0\n",
       "DestAirportID      0\n",
       "Dest               0\n",
       "CRSDepTime         0\n",
       "DepTime            0\n",
       "DepDelayMinutes    0\n",
       "DepDel15           0\n",
       "CRSArrTime         0\n",
       "ArrTime            0\n",
       "ArrDelayMinutes    0\n",
       "ArrDel15           0\n",
       "Unnamed: 0         0\n",
       "windspeedKmph      0\n",
       "visibility         0\n",
       "weatherCode        0\n",
       "precipMM           0\n",
       "WindGustKmph       0\n",
       "pressure           0\n",
       "cloudcover         0\n",
       "winddirDegree      0\n",
       "humidity           0\n",
       "DewPointF          0\n",
       "tempF              0\n",
       "time               0\n",
       "WindChillF         0\n",
       "date               0\n",
       "place              0\n",
       "dtype: int64"
      ]
     },
     "execution_count": 4,
     "metadata": {},
     "output_type": "execute_result"
    }
   ],
   "source": [
    "df.isnull().sum()"
   ]
  },
  {
   "cell_type": "code",
   "execution_count": 5,
   "metadata": {},
   "outputs": [],
   "source": [
    "X = df.loc[df['ArrDel15'] == 1.0]      #selecting only delayed flights \n",
    "#y = df['ArrDel15']\n",
    "#X = df.drop(['ArrDel15','FlightDate','date','place','ArrDelayMinutes','ArrTime','Unnamed: 0'],axis = 1)"
   ]
  },
  {
   "cell_type": "code",
   "execution_count": 6,
   "metadata": {},
   "outputs": [],
   "source": [
    "y = X['ArrDelayMinutes']"
   ]
  },
  {
   "cell_type": "code",
   "execution_count": 7,
   "metadata": {},
   "outputs": [],
   "source": [
    "X = X.drop(['ArrDelayMinutes','Dest','Unnamed: 0','FlightDate','ArrTime','date','place','time'], axis = 1)"
   ]
  },
  {
   "cell_type": "code",
   "execution_count": 8,
   "metadata": {},
   "outputs": [
    {
     "data": {
      "text/plain": [
       "Index(['Year', 'Quarter', 'Month', 'DayofMonth', 'OriginAirportID',\n",
       "       'DestAirportID', 'CRSDepTime', 'DepTime', 'DepDelayMinutes', 'DepDel15',\n",
       "       'CRSArrTime', 'ArrDel15', 'windspeedKmph', 'visibility', 'weatherCode',\n",
       "       'precipMM', 'WindGustKmph', 'pressure', 'cloudcover', 'winddirDegree',\n",
       "       'humidity', 'DewPointF', 'tempF', 'WindChillF'],\n",
       "      dtype='object')"
      ]
     },
     "execution_count": 8,
     "metadata": {},
     "output_type": "execute_result"
    }
   ],
   "source": [
    "X.columns"
   ]
  },
  {
   "cell_type": "code",
   "execution_count": 9,
   "metadata": {},
   "outputs": [],
   "source": [
    "from sklearn.model_selection import train_test_split  \n",
    "X_train, X_test, y_train, y_test = train_test_split(X, y, test_size = 0.20) "
   ]
  },
  {
   "cell_type": "code",
   "execution_count": 10,
   "metadata": {},
   "outputs": [
    {
     "data": {
      "text/plain": [
       "(77600, 24)"
      ]
     },
     "execution_count": 10,
     "metadata": {},
     "output_type": "execute_result"
    }
   ],
   "source": [
    "X_test.shape"
   ]
  },
  {
   "cell_type": "code",
   "execution_count": 11,
   "metadata": {},
   "outputs": [],
   "source": [
    "from sklearn.metrics import mean_squared_error\n",
    "from sklearn.metrics import mean_absolute_error\n",
    "from sklearn.metrics import r2_score"
   ]
  },
  {
   "cell_type": "markdown",
   "metadata": {},
   "source": [
    "### Linear Regression"
   ]
  },
  {
   "cell_type": "code",
   "execution_count": 12,
   "metadata": {},
   "outputs": [
    {
     "data": {
      "text/plain": [
       "LinearRegression()"
      ]
     },
     "execution_count": 12,
     "metadata": {},
     "output_type": "execute_result"
    }
   ],
   "source": [
    "from sklearn.linear_model import LinearRegression\n",
    "lin = LinearRegression()\n",
    "lin.fit(X_train,y_train)"
   ]
  },
  {
   "cell_type": "code",
   "execution_count": 13,
   "metadata": {},
   "outputs": [],
   "source": [
    "y_pred_lin = lin.predict(X_test)"
   ]
  },
  {
   "cell_type": "code",
   "execution_count": 14,
   "metadata": {},
   "outputs": [
    {
     "name": "stdout",
     "output_type": "stream",
     "text": [
      "mean_squared_error    17.786286739130166\n",
      "mean_absolute_error   12.279928185528455\n",
      "R2score     0.9383563288156502\n"
     ]
    }
   ],
   "source": [
    "print(\"mean_squared_error   \" , np.sqrt(mean_squared_error(y_test, y_pred_lin)))\n",
    "print(\"mean_absolute_error  \" , mean_absolute_error(y_test, y_pred_lin))\n",
    "print(\"R2score    \" , r2_score(y_test,y_pred_lin))"
   ]
  },
  {
   "cell_type": "markdown",
   "metadata": {},
   "source": [
    "### SVR"
   ]
  },
  {
   "cell_type": "code",
   "execution_count": null,
   "metadata": {},
   "outputs": [],
   "source": [
    "from sklearn.svm import SVR\n",
    "svr = SVR(kernel = 'rbf')\n",
    "svr.fit(X_train,y_train)"
   ]
  },
  {
   "cell_type": "markdown",
   "metadata": {},
   "source": [
    "### Extra Trees Regressor"
   ]
  },
  {
   "cell_type": "code",
   "execution_count": 15,
   "metadata": {},
   "outputs": [
    {
     "data": {
      "text/plain": [
       "ExtraTreesRegressor()"
      ]
     },
     "execution_count": 15,
     "metadata": {},
     "output_type": "execute_result"
    }
   ],
   "source": [
    "from sklearn.ensemble import ExtraTreesRegressor\n",
    "etr = ExtraTreesRegressor()\n",
    "etr.fit(X_train,y_train)"
   ]
  },
  {
   "cell_type": "code",
   "execution_count": 16,
   "metadata": {},
   "outputs": [],
   "source": [
    "y_pred_etr = etr.predict(X_test)"
   ]
  },
  {
   "cell_type": "code",
   "execution_count": 17,
   "metadata": {},
   "outputs": [
    {
     "name": "stdout",
     "output_type": "stream",
     "text": [
      "mean_squared_error    17.02613892990723\n",
      "mean_absolute_error   11.929242719072166\n",
      "R2score     0.9435127721519921\n"
     ]
    }
   ],
   "source": [
    "print(\"mean_squared_error   \" , np.sqrt(mean_squared_error(y_test, y_pred_etr)))\n",
    "print(\"mean_absolute_error  \" , mean_absolute_error(y_test, y_pred_etr))\n",
    "print(\"R2score    \" , r2_score(y_test,y_pred_etr))"
   ]
  },
  {
   "cell_type": "markdown",
   "metadata": {},
   "source": [
    "### XGBoost Regressor"
   ]
  },
  {
   "cell_type": "code",
   "execution_count": 18,
   "metadata": {
    "scrolled": true
   },
   "outputs": [
    {
     "name": "stderr",
     "output_type": "stream",
     "text": [
      "D:\\Softwares\\Anaconda\\lib\\site-packages\\dask\\dataframe\\utils.py:14: FutureWarning: pandas.util.testing is deprecated. Use the functions in the public API at pandas.testing instead.\n",
      "  import pandas.util.testing as tm\n"
     ]
    },
    {
     "data": {
      "text/plain": [
       "XGBRegressor(base_score=0.5, booster='gbtree', colsample_bylevel=1,\n",
       "             colsample_bynode=1, colsample_bytree=1, gamma=0, gpu_id=-1,\n",
       "             importance_type='gain', interaction_constraints='',\n",
       "             learning_rate=0.300000012, max_delta_step=0, max_depth=6,\n",
       "             min_child_weight=1, missing=nan, monotone_constraints='()',\n",
       "             n_estimators=100, n_jobs=0, num_parallel_tree=1, random_state=0,\n",
       "             reg_alpha=0, reg_lambda=1, scale_pos_weight=1, subsample=1,\n",
       "             tree_method='exact', validate_parameters=1, verbosity=None)"
      ]
     },
     "execution_count": 18,
     "metadata": {},
     "output_type": "execute_result"
    }
   ],
   "source": [
    "import xgboost as xg\n",
    "xgb = xg.XGBRegressor()\n",
    "xgb.fit(X_train,y_train)"
   ]
  },
  {
   "cell_type": "code",
   "execution_count": 19,
   "metadata": {},
   "outputs": [],
   "source": [
    "y_pred_xgb = xgb.predict(X_test)"
   ]
  },
  {
   "cell_type": "code",
   "execution_count": 20,
   "metadata": {},
   "outputs": [
    {
     "name": "stdout",
     "output_type": "stream",
     "text": [
      "mean_squared_error    16.344376971751945\n",
      "mean_absolute_error   11.273178123088227\n",
      "R2score     0.9479459341461435\n"
     ]
    }
   ],
   "source": [
    "print(\"mean_squared_error   \" , np.sqrt(mean_squared_error(y_test, y_pred_xgb)))\n",
    "print(\"mean_absolute_error  \" , mean_absolute_error(y_test, y_pred_xgb))\n",
    "print(\"R2score    \" , r2_score(y_test,y_pred_xgb))"
   ]
  },
  {
   "cell_type": "markdown",
   "metadata": {},
   "source": [
    "### Regression Testing"
   ]
  },
  {
   "cell_type": "code",
   "execution_count": 66,
   "metadata": {},
   "outputs": [],
   "source": [
    "def lin_metrics(X,Y,Z):\n",
    "    for i,j,k in zip(X,Y,Z):\n",
    "        print(\"\\n\\n\",k)\n",
    "        y_pred = lin.predict(i)\n",
    "        print(\"mean_squared_error   \" , np.sqrt(mean_squared_error(j, y_pred)))\n",
    "        print(\"mean_absolute_error  \" , mean_absolute_error(j, y_pred))\n",
    "        print(\"R2score    \" , r2_score(j,y_pred))"
   ]
  },
  {
   "cell_type": "code",
   "execution_count": 67,
   "metadata": {},
   "outputs": [],
   "source": [
    "def etr_metrics(X,Y,Z):\n",
    "    for i,j,k in zip(X,Y,Z):\n",
    "        print(\"\\n\\n\",k)\n",
    "        y_pred = etr.predict(i)\n",
    "        print(\"mean_squared_error   \" , np.sqrt(mean_squared_error(j, y_pred)))\n",
    "        print(\"mean_absolute_error  \" , mean_absolute_error(j, y_pred))\n",
    "        print(\"R2score    \" , r2_score(j,y_pred))"
   ]
  },
  {
   "cell_type": "code",
   "execution_count": 68,
   "metadata": {},
   "outputs": [],
   "source": [
    "def xgb_metrics(X,Y,Z):\n",
    "    for i,j,k in zip(X,Y,Z):\n",
    "        print(\"\\n\\n\",k)\n",
    "        y_pred = xgb.predict(i)\n",
    "        print(\"mean_squared_error   \" , np.sqrt(mean_squared_error(j, y_pred)))\n",
    "        print(\"mean_absolute_error  \" , mean_absolute_error(j, y_pred))\n",
    "        print(\"R2score    \" , r2_score(j,y_pred))"
   ]
  },
  {
   "cell_type": "code",
   "execution_count": 69,
   "metadata": {},
   "outputs": [],
   "source": [
    "y_test = pd.DataFrame(y_test)"
   ]
  },
  {
   "cell_type": "code",
   "execution_count": 70,
   "metadata": {},
   "outputs": [],
   "source": [
    "y1 = y_test.loc[y_test['ArrDelayMinutes'].isin(list(range(15,101)))]\n",
    "y2 = y_test.loc[y_test['ArrDelayMinutes'].isin(list(range(101,201)))]\n",
    "y3 = y_test.loc[y_test['ArrDelayMinutes'].isin(list(range(201,501)))]\n",
    "y4 = y_test.loc[y_test['ArrDelayMinutes'].isin(list(range(501,1001)))]\n",
    "y5 = y_test.loc[y_test['ArrDelayMinutes'].isin(list(range(1001,2001)))]"
   ]
  },
  {
   "cell_type": "code",
   "execution_count": 71,
   "metadata": {},
   "outputs": [],
   "source": [
    "y1 = y1['ArrDelayMinutes']\n",
    "y2 = y2['ArrDelayMinutes']\n",
    "y3 = y3['ArrDelayMinutes']\n",
    "y4 = y4['ArrDelayMinutes']\n",
    "y5 = y5['ArrDelayMinutes']"
   ]
  },
  {
   "cell_type": "code",
   "execution_count": 72,
   "metadata": {},
   "outputs": [],
   "source": [
    "X1 = X_test.loc[y_test['ArrDelayMinutes'].isin(list(range(15,101)))]\n",
    "X2 = X_test.loc[y_test['ArrDelayMinutes'].isin(list(range(101,201)))]\n",
    "X3 = X_test.loc[y_test['ArrDelayMinutes'].isin(list(range(201,501)))]\n",
    "X4 = X_test.loc[y_test['ArrDelayMinutes'].isin(list(range(501,1001)))]\n",
    "X5 = X_test.loc[y_test['ArrDelayMinutes'].isin(list(range(1001,2001)))]"
   ]
  },
  {
   "cell_type": "code",
   "execution_count": 73,
   "metadata": {},
   "outputs": [],
   "source": [
    "X_cal = [X1,X2,X3,X4,X5]\n",
    "Y_cal = [y1,y2,y3,y4,y5]\n",
    "Z_cal = ['15-100','100-200','200-500','500-1000','1000-2000']"
   ]
  },
  {
   "cell_type": "code",
   "execution_count": 74,
   "metadata": {},
   "outputs": [
    {
     "name": "stdout",
     "output_type": "stream",
     "text": [
      "\n",
      "\n",
      " 15-100\n",
      "mean_squared_error    14.768995610980877\n",
      "mean_absolute_error   11.03943192089824\n",
      "R2score     0.5626218905406571\n",
      "\n",
      "\n",
      " 100-200\n",
      "mean_squared_error    27.516326671688482\n",
      "mean_absolute_error   18.22890132577939\n",
      "R2score     -0.034616293656098085\n",
      "\n",
      "\n",
      " 200-500\n",
      "mean_squared_error    31.966625318984168\n",
      "mean_absolute_error   19.77556815750281\n",
      "R2score     0.760348989365203\n",
      "\n",
      "\n",
      " 500-1000\n",
      "mean_squared_error    29.784900687496506\n",
      "mean_absolute_error   20.183383224123354\n",
      "R2score     0.9525931106749278\n",
      "\n",
      "\n",
      " 1000-2000\n",
      "mean_squared_error    39.11902802890959\n",
      "mean_absolute_error   31.2910568410406\n",
      "R2score     0.9065241828249332\n"
     ]
    }
   ],
   "source": [
    "lin_metrics(X_cal,Y_cal,Z_cal)"
   ]
  },
  {
   "cell_type": "code",
   "execution_count": 75,
   "metadata": {},
   "outputs": [
    {
     "name": "stdout",
     "output_type": "stream",
     "text": [
      "\n",
      "\n",
      " 15-100\n",
      "mean_squared_error    14.052284359713274\n",
      "mean_absolute_error   10.651681706885135\n",
      "R2score     0.604042130127341\n",
      "\n",
      "\n",
      " 100-200\n",
      "mean_squared_error    26.706456466360027\n",
      "mean_absolute_error   18.18196770833333\n",
      "R2score     0.025389837540641502\n",
      "\n",
      "\n",
      " 200-500\n",
      "mean_squared_error    30.735716335280966\n",
      "mean_absolute_error   19.634428571428575\n",
      "R2score     0.778449689965101\n",
      "\n",
      "\n",
      " 500-1000\n",
      "mean_squared_error    25.952668791307463\n",
      "mean_absolute_error   16.39973913043478\n",
      "R2score     0.9640074020482134\n",
      "\n",
      "\n",
      " 1000-2000\n",
      "mean_squared_error    27.082478826263284\n",
      "mean_absolute_error   21.29343749999998\n",
      "R2score     0.9551977336151999\n"
     ]
    }
   ],
   "source": [
    "etr_metrics(X_cal,Y_cal,Z_cal)"
   ]
  },
  {
   "cell_type": "code",
   "execution_count": 76,
   "metadata": {},
   "outputs": [
    {
     "name": "stdout",
     "output_type": "stream",
     "text": [
      "\n",
      "\n",
      " 15-100\n",
      "mean_squared_error    13.385483284300006\n",
      "mean_absolute_error   10.057902484450688\n",
      "R2score     0.6407281152607951\n",
      "\n",
      "\n",
      " 100-200\n",
      "mean_squared_error    26.02313274640328\n",
      "mean_absolute_error   17.305186338822047\n",
      "R2score     0.07462544320044928\n",
      "\n",
      "\n",
      " 200-500\n",
      "mean_squared_error    29.439140033728133\n",
      "mean_absolute_error   18.27003041267395\n",
      "R2score     0.7967474878088979\n",
      "\n",
      "\n",
      " 500-1000\n",
      "mean_squared_error    24.897263746844743\n",
      "mean_absolute_error   16.1244688614555\n",
      "R2score     0.9668752669793365\n",
      "\n",
      "\n",
      " 1000-2000\n",
      "mean_squared_error    27.530918198759903\n",
      "mean_absolute_error   20.375932693481445\n",
      "R2score     0.95370175258448\n"
     ]
    }
   ],
   "source": [
    "xgb_metrics(X_cal,Y_cal,Z_cal)"
   ]
  }
 ],
 "metadata": {
  "kernelspec": {
   "display_name": "Python 3",
   "language": "python",
   "name": "python3"
  },
  "language_info": {
   "codemirror_mode": {
    "name": "ipython",
    "version": 3
   },
   "file_extension": ".py",
   "mimetype": "text/x-python",
   "name": "python",
   "nbconvert_exporter": "python",
   "pygments_lexer": "ipython3",
   "version": "3.7.6"
  }
 },
 "nbformat": 4,
 "nbformat_minor": 4
}
